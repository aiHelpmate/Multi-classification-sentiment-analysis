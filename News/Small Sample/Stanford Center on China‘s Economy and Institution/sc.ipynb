{
 "cells": [
  {
   "cell_type": "code",
   "execution_count": 3,
   "id": "837bf472",
   "metadata": {
    "ExecuteTime": {
     "end_time": "2024-01-30T03:35:29.715638Z",
     "start_time": "2024-01-30T03:35:29.708289Z"
    }
   },
   "outputs": [],
   "source": [
    "import os\n",
    "\n",
    "os.environ['http_proxy'] = 'http://127.0.0.1:7890'\n",
    "os.environ['https_proxy'] = 'http://127.0.0.1:7890'"
   ]
  },
  {
   "cell_type": "code",
   "execution_count": 9,
   "id": "3b602b97",
   "metadata": {
    "ExecuteTime": {
     "end_time": "2024-01-30T03:43:38.381445Z",
     "start_time": "2024-01-30T03:43:37.678594Z"
    }
   },
   "outputs": [
    {
     "name": "stdout",
     "output_type": "stream",
     "text": [
      "未找到指定的 div.\n"
     ]
    }
   ],
   "source": [
    "import requests\n",
    "from bs4 import BeautifulSoup\n",
    "\n",
    "# 目标 URL\n",
    "url = \"https://aparc.fsi.stanford.edu/research/fiscal-politics-central-local-relations-in-china\"\n",
    "\n",
    "# 发送 GET 请求\n",
    "try:\n",
    "    response = requests.get(url)\n",
    "\n",
    "    # 确保请求成功\n",
    "    if response.status_code == 200:\n",
    "        # 使用 BeautifulSoup 解析 HTML 内容\n",
    "        soup = BeautifulSoup(response.content, 'html.parser')\n",
    "        # 查找目标 div\n",
    "        target_div = soup.find('div', class_='paragraph full-html field-formatted-text text-long label-hidden')\n",
    "        # 检查是否找到 div\n",
    "        if target_div:\n",
    "            # 在 div 中查找所有 p 标签\n",
    "            p_tags = target_div.find_all('p')\n",
    "\n",
    "            # 遍历 p 标签并打印文本内容\n",
    "            for p in p_tags:\n",
    "                print(p.get_text())\n",
    "\n",
    "                # 在每个 p 标签中进一步查找 strong 标签并打印文本\n",
    "                strong_tags = p.find_all('strong')\n",
    "                for strong in strong_tags:\n",
    "                    print(strong.get_text())\n",
    "        else:\n",
    "            print(\"未找到指定的 div.\")\n",
    "\n",
    "except requests.RequestException as e:\n",
    "    print(f\"请求出错：{e}\")\n"
   ]
  },
  {
   "cell_type": "code",
   "execution_count": null,
   "id": "48779049",
   "metadata": {},
   "outputs": [],
   "source": []
  }
 ],
 "metadata": {
  "kernelspec": {
   "display_name": "Python 3",
   "language": "python",
   "name": "python3"
  },
  "language_info": {
   "codemirror_mode": {
    "name": "ipython",
    "version": 3
   },
   "file_extension": ".py",
   "mimetype": "text/x-python",
   "name": "python",
   "nbconvert_exporter": "python",
   "pygments_lexer": "ipython3",
   "version": "3.8.8"
  }
 },
 "nbformat": 4,
 "nbformat_minor": 5
}
