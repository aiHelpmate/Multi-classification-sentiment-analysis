{
 "cells": [
  {
   "cell_type": "code",
   "execution_count": 17,
   "id": "7443dcc7",
   "metadata": {
    "ExecuteTime": {
     "end_time": "2024-01-29T13:07:55.446243Z",
     "start_time": "2024-01-29T13:07:55.433294Z"
    }
   },
   "outputs": [],
   "source": [
    "import os\n",
    "\n",
    "os.environ['http_proxy'] = 'http://127.0.0.1:7890'\n",
    "os.environ['https_proxy'] = 'http://127.0.0.1:7890'"
   ]
  },
  {
   "cell_type": "code",
   "execution_count": 49,
   "id": "46ed7612",
   "metadata": {
    "ExecuteTime": {
     "end_time": "2024-01-30T02:40:46.902003Z",
     "start_time": "2024-01-30T02:40:27.482145Z"
    }
   },
   "outputs": [
    {
     "name": "stderr",
     "output_type": "stream",
     "text": [
      "D:\\woai\\lib\\site-packages\\urllib3\\connectionpool.py:1013: InsecureRequestWarning: Unverified HTTPS request is being made to host '127.0.0.1'. Adding certificate verification is strongly advised. See: https://urllib3.readthedocs.io/en/latest/advanced-usage.html#ssl-warnings\n",
      "  warnings.warn(\n",
      "D:\\woai\\lib\\site-packages\\urllib3\\connectionpool.py:1013: InsecureRequestWarning: Unverified HTTPS request is being made to host '127.0.0.1'. Adding certificate verification is strongly advised. See: https://urllib3.readthedocs.io/en/latest/advanced-usage.html#ssl-warnings\n",
      "  warnings.warn(\n"
     ]
    },
    {
     "name": "stdout",
     "output_type": "stream",
     "text": [
      "/n\n",
      "/n\n",
      "China records first population decline in 60 years\n",
      "/n\n",
      "/n\n",
      "/n\n",
      "China is encouraging college graduates to work in the countryside\n",
      "/n\n",
      "/n\n",
      "/n\n"
     ]
    }
   ],
   "source": [
    "import requests\n",
    "from bs4 import BeautifulSoup\n",
    "import csv\n",
    "import time\n",
    "\n",
    "idx = 40\n",
    "\n",
    "url = \"https://search.prod.di.api.cnn.io/content?q=china%20poverty%20&size=10&from=40&page=5&sort=relevance&types=article&request_id=pdx-search-aea846e5-c96d-4558-9dcf-775010785145\"\n",
    "\n",
    "headers = {\n",
    "    'User-Agent': 'Mozilla/5.0 (X11; Ubuntu; Linux x86_64; rv:88.0) Gecko/20100101 Firefox/88.0',\n",
    "    'Accept': 'application/json',\n",
    "}\n",
    "\n",
    "response = requests.get(url, headers=headers, verify=False)\n",
    "try:\n",
    "    response = requests.get(url, headers=headers, verify=False)\n",
    "\n",
    "    if response.status_code == 200:\n",
    "        data = response.json()\n",
    "    else:\n",
    "        print('Failed to retrieve data:', response.status_code)\n",
    "\n",
    "    results = data.get('result', [])\n",
    "\n",
    "    for result in results:\n",
    "        article_url = result.get('url')\n",
    "        article_title = result.get('headline', 'No Title')  # 获取标题，如果不存在则返回'No Title'\n",
    "        if \"China\" in article_title or \"Chinese\" in article_title:\n",
    "            if article_url:\n",
    "                try:\n",
    "                    response = requests.get(article_url, headers=headers)\n",
    "                    if response.status_code == 200:\n",
    "                        soup = BeautifulSoup(response.content, 'html.parser')\n",
    "                        paragraphs = soup.find_all('p', {'class': 'paragraph inline-placeholder'})\n",
    "\n",
    "                        # 创建并写入文本文件\n",
    "                        text_file_name = f'{idx}.txt'\n",
    "                        with open(text_file_name, 'w', newline='', encoding='utf-8') as file:\n",
    "                            for paragraph in paragraphs:\n",
    "                                file.write(paragraph.get_text() + '\\n')\n",
    "\n",
    "                        # 写入标题到CSV文件\n",
    "                        print(article_title)\n",
    "                        time.sleep(2.5)  # 每次请求后暂停2秒\n",
    "\n",
    "                        idx += 1  # 更新索引\n",
    "                except requests.exceptions.SSLError as ssl_error:\n",
    "                    print(\"/n\")\n",
    "                except requests.RequestException as e:\n",
    "                    print(\"/n\")\n",
    "            else:\n",
    "                print(f'Failed to retrieve article: {article_url}, Status code: {response.status_code}')\n",
    "except requests.RequestException as e:\n",
    "    print(\"/n\")\n"
   ]
  },
  {
   "cell_type": "code",
   "execution_count": null,
   "id": "9a5b6f8d",
   "metadata": {},
   "outputs": [],
   "source": []
  }
 ],
 "metadata": {
  "kernelspec": {
   "display_name": "Python 3 (ipykernel)",
   "language": "python",
   "name": "python3"
  },
  "language_info": {
   "codemirror_mode": {
    "name": "ipython",
    "version": 3
   },
   "file_extension": ".py",
   "mimetype": "text/x-python",
   "name": "python",
   "nbconvert_exporter": "python",
   "pygments_lexer": "ipython3",
   "version": "3.11.7"
  }
 },
 "nbformat": 4,
 "nbformat_minor": 5
}
